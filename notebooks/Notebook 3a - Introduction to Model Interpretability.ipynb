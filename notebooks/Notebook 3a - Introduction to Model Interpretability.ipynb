{
 "cells": [
  {
   "cell_type": "markdown",
   "id": "d9e70690",
   "metadata": {},
   "source": [
    "<a href=\"https://colab.research.google.com/github/leolorenzoii/ml2_interpretability/blob/main/notebooks/01_Model_Interpretability_and_Shapley_Values.ipynb\" target=\"_blank\">\n",
    "  <img src=\"https://colab.research.google.com/assets/colab-badge.svg\" align=\"left\" alt=\"Open In Colab\"/>\n",
    "</a>"
   ]
  },
  {
   "cell_type": "markdown",
   "id": "996bc83a",
   "metadata": {},
   "source": [
    "# Introduction to Model Interpretability"
   ]
  },
  {
   "cell_type": "markdown",
   "id": "44863d11",
   "metadata": {},
   "source": [
    "Throughout the **Machine Learning 1** course, we learned all about different machine learning algorithms- how they work, how we can hypertune their hyperparameters, and how we can select the optimal model through a cross validation strategy. In the end, we can now train a machine learning model and use it to make predictions on unseen data (see Figure <a href='#fig:ml-nutshell'>1</a>).\n",
    "\n",
    "<a name='fig:ml-nutshell'></a>\n",
    "<div>\n",
    "<img src=\"images/ml-nutshell.png\" align=\"left\" width=\"600\"/>\n",
    "</div>\n",
    "\n",
    "<br style=\"clear:both\" />\n",
    "\n",
    "<div>\n",
    "    <p style=\"font-size:12px;font-style:default;\">\n",
    "        <b>Figure 1. Training and testing a machine learning model in a nutshell.</b><br>\n",
    "        We learned how to train a machine learning model and use it to predict unseen data.\n",
    "    </p>\n",
    "</div>\n",
    "\n",
    "<br style=\"clear:both\" />\n",
    "\n",
    "However, our methodology is currently geared more towards only optimizing the predictive power of our models and less on how we can use our models for inference. In times where stakeholders require us to explain the predictions of our machine learning model, our current methodology will be insufficient. In particular, we lack the capacity to answer questions such as:\n",
    "\n",
    "- How does one (or more) feature impact the predictions of the model?\n",
    "- What is the role that each feature value play in each individual predictions?\n",
    "- How can we explain the models predictions in a more useful manner for our stakeholders?\n",
    "\n",
    "We will deal with methods that improves the explainability of our models in the next series of notebooks. For our first notebook on interpretability, a brief introduction on model interpretability and its importance will be emphasized. We also show in the concluding section of this notebook how we can incorporate these explainability methods on our machine learning pipeline."
   ]
  },
  {
   "cell_type": "markdown",
   "id": "11eff86f",
   "metadata": {},
   "source": [
    "## What is model interpretability?"
   ]
  },
  {
   "cell_type": "markdown",
   "id": "75ad8798",
   "metadata": {},
   "source": [
    "In Christoph Molnar's [Interpretable Machine Learning](#ref:molnar) book [[2]](#ref:molnar), he collated two definitions of **interpretability**. A non-mathematical one:\n",
    "\n",
    "> *Interpretability is the degree to which a* ***human*** *can* ***understand*** *the cause of a* ***decision***. [[3]](#ref:miller)\n",
    "\n",
    "And a mathematical one:\n",
    "\n",
    "> *Interpretability is the degree to which a* ***human*** *can consistently* ***predict*** *the* ***model’s result***. [[4]](#ref:kim)\n",
    "\n",
    "In both definitions we see three important elements: the **human**, the **understanding**, and the **decision**. Thus, in the same way, when we construct our definition for *interpretability* in the context of machine learning:\n",
    "\n",
    "> ***Model interpretability*** *refers to the degree in which the behaviors and tendencies of statistical and machine learning models are understandable to humans.*\n",
    "\n",
    "Notice here that there is a *flexibility* in the definition of model interpretability. Indeed, defining how explicable a machine learning model is depends on the needs and requirements of a project and the different stakeholders.\n",
    "\n",
    "Nevertheless, as ethical machine learning practitioners and data science leaders, model interpretability MUST be integrated as early as possible in the development process and should NOT just be taken as an afterthought."
   ]
  },
  {
   "cell_type": "markdown",
   "id": "275578aa",
   "metadata": {},
   "source": [
    "## Why interpretability?"
   ]
  },
  {
   "cell_type": "markdown",
   "id": "aba0b6d2",
   "metadata": {},
   "source": [
    "Now, one might ask, why bother with interpretability? Wouldn't a high model performance would ultimately yield to higher business value? This is quite a arguable topic! In fact, in 2017, the [Neural Information Processing Systems](https://nips.cc/) conference in 2017 had its first ever ***The Great AI Debate*** with the topic ***Is interpretability necessary for machine learning?*** [[6]](#ref:great-ai-debate) *(you are highly encourage to watch this engaging and insightful discussion* 🙂).\n",
    "\n",
    "In the video, it was shown that model interpretability is crucial especially for some applications where quirky patterns from the data may be learned by the model. Indeed, having an interpretability pipeline in your project gives you, the Data Scientist, the ability to debug your model and identify issues early on. Thus, giving you a chance to improve your model. Furthermore, it has added benefits for other stakeholders that is interested and affected by your machine learning model (see Figure [4](#fig:stakeholders)).\n",
    "\n",
    "<a name='fig:stakeholders'></a>\n",
    "<div>\n",
    "<img src=\"images/interpretability-stakeholders.png\" align=\"left\" width=\"700\"/>\n",
    "</div>\n",
    "\n",
    "<br style=\"clear:both\" />\n",
    "<br style=\"clear:both\" />\n",
    "\n",
    "<div>\n",
    "    <p style=\"font-size:12px;font-style:default;\">\n",
    "        <b>Figure 4. Benefits of model interpretability to various stakeholders of a machine learning project.</b><br>\n",
    "           Model interpretability benefits the data scientist, business decision makers, approving authorities, and business customers.\n",
    "    </p>\n",
    "</div>\n",
    "\n",
    "For **data scientists**, being able to explain the model to other stakeholders is also one benefit of having model explicability. The better you can explain the model to other people in the business, the greater its chance of being adopted and the trust given to the model by other stakeholders. With model interpretability, **business executives** now has the option to provide transparency to its end-users. Furthermore, it helps them justify the business case for the investment and identify other potential extensions and business use-case for the project. **Approving authorities** also benefit from model interpretability, by having a clear understanding of the risk the business is going to take in adopting the model, understanding the impact of the model decisions to humans, and anticipate any legal or regulatory issues that the model may face. Finally, **customer** experience and decision making can also be improved if they understand why a model gives a certain prediction.\n",
    "\n",
    "<div class=\"alert alert-info\">\n",
    "\n",
    "**Points for Discussion**\n",
    "\n",
    "Here, we outlined the benefits of having an interpretability pipeline in our machine learning projects. Can you think of cases where having model interpretability is NOT preferred? Give a particular instance where having model interpretability can do more harm than good.\n",
    "\n",
    "</div>"
   ]
  },
  {
   "cell_type": "markdown",
   "id": "33556941",
   "metadata": {},
   "source": [
    "## What makes a good explanation?"
   ]
  },
  {
   "cell_type": "markdown",
   "id": "f13dfe86",
   "metadata": {},
   "source": [
    "Before we begin explaining predictions of machine learning models, it helps to understand what makes an explanation good an acceptable for humans. We are making explanations, after all, for a humans to be digested. This help us better frame the model explanations we get from model interpretability methods.\n",
    "\n",
    "Here are some of the few important characteristics of a good explanation *(see Chapter 3.6 of Molnar's Interpretable Machine Learning for a complete list [[2]](#ref:molnar))*:\n",
    "\n",
    "1. **Contrastive** - Model explanations must be able to answer *why a given prediction has been made in place of another prediction*. For example, in a model that recommends whether an individual be given a loan or not, a good explanation must be able to tell *what factors should/could I change to alter the model prediction*.\n",
    "2. **Selective** - We *humans are only capable to comprehend 2 to 3 variables at a time*. Thus, a good model explanation must be able to *list the important drivers to explain an outcome*. Imagine having an interpretable model such as linear regression or decision trees, but an explanation that looks at hundreds or thousands of variables, it would be really hard for any human to digest that explanation!\n",
    "3. **Consistent with prior beliefs** - Model explanations are greatly affected by how people perceived them. As such, when *an explanation is consistent with the prior beliefs of an individual*, they tend to favor such explanation ( also known as **confirmation bias**). This is not to discredit any novel or serendipitous discoveries of the model explanation. However, having an explanation that is in line with a domain expert, helps in the model's adoption. Furthermore, if a model is found to exhibit behavior inconsistent with the domain expert's belief, we can enforce constraints on the model or use a linear model that has the required property.\n",
    "\n",
    "<div class=\"alert alert-info\">\n",
    "\n",
    "**Points for Discussion**\n",
    "\n",
    "Among the interpretability methods that you currently know, can you create model explanations that satisfies all of the three characteristics we discussed above?\n",
    "\n",
    "</div>"
   ]
  },
  {
   "cell_type": "markdown",
   "id": "5bb1295d",
   "metadata": {},
   "source": [
    "## Types of Explainability Methods"
   ]
  },
  {
   "cell_type": "markdown",
   "id": "ddc8a02b",
   "metadata": {},
   "source": [
    "Model interpretability methods can be classified according to three different criteria (see Figure 5) [[7]](#ref:bbox-peek):\n",
    "\n",
    "<a name='fig:taxonomy'></a>\n",
    "<div>\n",
    "<img src=\"images/taxonomy.png\" align=\"left\" width=\"550\"/>\n",
    "</div>\n",
    "\n",
    "<br style=\"clear:both\" />\n",
    "<br style=\"clear:both\" />\n",
    "\n",
    "<div>\n",
    "    <p style=\"font-size:12px;font-style:default;\">\n",
    "        <b>Figure 5. Taxonomy of different explainability methods.</b><br>\n",
    "           Model interpretability or explainability methods can be intrinsic or post-hoc, model-specific or model-agnostic, local or global. Model-agnostic methods can be further classified whether they use surrogate models or are just visualizations of the behavior of the black-box model.\n",
    "    </p>\n",
    "</div>\n",
    "\n",
    "First, we can classify whether the method stems from the model being **intrinsically** interpretable. If the model is not intrinsically interpretable, then the explanation method can be applied **post-hoc** or post-model training. Examples of intrinsically interpretable models include: Linear models, Decision Tree, and Rule-based models ([RuleFit](https://github.com/rohan-gt/rulefit) [[8]](#ref:rulefit)).\n",
    "\n",
    "We can further classify the method whether it is **model-specific** or **model-agnostic** (intrinsic explainability methods are model-specific by definition). Model agnostic means that the explainability method can be applied to any black box models. They can be further divided into whether they apply **surrogate** models (e.g., LIME or SHAP Kernel) or is a **visualization** of the behavior of the black box model (e.g., Partial Dependence Plots, Individual Conditional Expectations, or Accumulated Local Effects) [[9]](#ref:med-image).\n",
    "\n",
    "Finally, we can classify an explainability method whether it is a **global** explanation - i.e., it explains the whole model behavior (ex. feature importance and summary visualizations), or whether it is a **local** explanation, i.e., it explains a particular instance in the test or train dataset."
   ]
  },
  {
   "cell_type": "markdown",
   "id": "1bcc7178",
   "metadata": {},
   "source": [
    "## Predictive vs Explanatory Modeling"
   ]
  },
  {
   "cell_type": "markdown",
   "id": "01eaf423",
   "metadata": {},
   "source": [
    "Two of the models we introduced in machine learning 1 can actually be considered as an intrinsically explainable method, i.e., Decision Trees and Linear Regression models. However, we've only presented them in the context of maximizing the prediction accuracy that we get from these models. For us to reframe their usage for explainability, we need to first differentiate what we mean by using models for prediction versus explanation [[12]](#ref:predict-explain).\n",
    "\n",
    "- **Predictive Modeling** - *process of applying a statistical model or machine learning model to data for the purpose of predicting new or future observations.* As such, the goal for predictive modeling is to minimize the combination of bias and estimation variance to obtain the required empirical precision.\n",
    "\n",
    "- **Explanatory Modeling** - *process of applying statistical models to data for testing causal hypothesis about the theoretical constructs of the data generation process*. The focus for explanatory modeling is to minimize bias to obtain the most accurate representation of the underlying theory.\n",
    "\n",
    "To see how these differ, let's look at two different pipelines in the succeeding subsections - one will focus on predictive modeling (as usual), while the other would heavily focus on explanatory modeling.\n",
    "\n",
    "We'll set our data generation process to be linear for our analysis to emphasize the difference between the two pipeline (see Equation \\ref{eq:data-gen}).\n",
    "\n",
    "\\begin{equation}\n",
    "y = \\beta_2 X_2 ^ 3 + \\beta_1 X_1 + \\beta_0 \\tag{1} \\label{eq:data-gen}\n",
    "\\end{equation}"
   ]
  },
  {
   "cell_type": "code",
   "execution_count": 2,
   "id": "7176ce10",
   "metadata": {
    "ExecuteTime": {
     "end_time": "2023-01-25T16:43:13.257997Z",
     "start_time": "2023-01-25T16:43:13.242140Z"
    }
   },
   "outputs": [],
   "source": [
    "import numpy as np\n",
    "\n",
    "# Sklearn make regressions allows us to generate a random regression problem\n",
    "from sklearn.datasets import make_regression\n",
    "\n",
    "# Generate 1000 samples using the model:\n",
    "# y = b_2 X_2^3 + b_1 X_1 + 0.77\n",
    "# while adding 3.50 noise to the target.\n",
    "#\n",
    "# Notice we name the output data matrix as X_processed, this is because\n",
    "# we will take the cube root of second feature to simulate a linear\n",
    "# dependence on X_2^3.\n",
    "X_processed, y, coef = make_regression(\n",
    "    n_samples=100,\n",
    "    n_features=2,\n",
    "    bias=0.77,\n",
    "    coef=True,\n",
    "    noise=3.50,\n",
    "    random_state=1337\n",
    ")\n",
    "X = np.array([X_processed[:, 0], np.cbrt(X_processed[:, 1])]).T"
   ]
  },
  {
   "cell_type": "markdown",
   "id": "f0f72909",
   "metadata": {},
   "source": [
    "### Predictive Modeling"
   ]
  },
  {
   "cell_type": "markdown",
   "id": "82da0230",
   "metadata": {},
   "source": [
    "A predictive modeling pipeline would proceed as follows (for the model experimentation and evaluation step):\n",
    "\n",
    "1. Hold-out test set segregation - setting out a hold-out test set for evaluation\n",
    "2. Model selection - shortlisting which models to use\n",
    "3. Cross validation design - how to perform cross validation\n",
    "4. Hyperparameter tuning - deciding which optimal model to use"
   ]
  },
  {
   "cell_type": "markdown",
   "id": "cf0da280",
   "metadata": {},
   "source": [
    "Let's use 20% of the datapoints as our hold-out set."
   ]
  },
  {
   "cell_type": "code",
   "execution_count": 3,
   "id": "abb5768d",
   "metadata": {
    "ExecuteTime": {
     "end_time": "2023-01-25T16:43:14.675677Z",
     "start_time": "2023-01-25T16:43:14.637449Z"
    }
   },
   "outputs": [],
   "source": [
    "from sklearn.model_selection import train_test_split\n",
    "\n",
    "X_trainval, X_holdout, y_trainval, y_holdout = train_test_split(\n",
    "    X, y, test_size=0.20, random_state=1337)"
   ]
  },
  {
   "cell_type": "markdown",
   "id": "605e47a0",
   "metadata": {},
   "source": [
    "Suppose we decided to use the following models:\n",
    "\n",
    "1. Ridge Regression\n",
    "2. Linear SVM\n",
    "3. Nonlinear SVM\n",
    "\n",
    "Then hypertune the `C` or `alpha` of the model along the range of `[1.e-05, 1.e-04, 1.e-03, 1.e-02, 1.e-01, 1.e+00, 1.e+01, 1.e+02, 1.e+03, 1.e+04, 1.e+05]`.\n"
   ]
  },
  {
   "cell_type": "code",
   "execution_count": 4,
   "id": "b118c124",
   "metadata": {
    "ExecuteTime": {
     "end_time": "2023-01-25T16:43:15.559476Z",
     "start_time": "2023-01-25T16:43:15.528171Z"
    }
   },
   "outputs": [],
   "source": [
    "from sklearn.pipeline import Pipeline\n",
    "from sklearn.linear_model import Ridge\n",
    "from sklearn.svm import SVR\n",
    "\n",
    "# Define C and alpha hyperparameter range\n",
    "C_range = np.logspace(-5, 5, 11)\n",
    "\n",
    "# Prepare the pipeline and parameter grid\n",
    "pipe = Pipeline([('clf', Ridge())])\n",
    "param_grid = [\n",
    "    {'clf': [Ridge(random_state=1337)], 'clf__alpha': C_range},\n",
    "    {'clf': [SVR(random_state=1337)], 'clf__kernel': ['linear', 'poly', 'rbf'], 'clf__C': C_range}\n",
    "]"
   ]
  },
  {
   "cell_type": "markdown",
   "id": "0175f688",
   "metadata": {
    "ExecuteTime": {
     "end_time": "2023-01-25T16:37:25.188088Z",
     "start_time": "2023-01-25T16:37:25.180102Z"
    }
   },
   "source": [
    "Next, let's find the optimal model for this case using a 5-fold cross validation strategy using `r2` as our metric."
   ]
  },
  {
   "cell_type": "code",
   "execution_count": 5,
   "id": "82c58f54",
   "metadata": {
    "ExecuteTime": {
     "end_time": "2023-01-25T16:43:21.755955Z",
     "start_time": "2023-01-25T16:43:16.368412Z"
    }
   },
   "outputs": [
    {
     "data": {
      "text/html": [
       "<style>#sk-container-id-1 {color: black;background-color: white;}#sk-container-id-1 pre{padding: 0;}#sk-container-id-1 div.sk-toggleable {background-color: white;}#sk-container-id-1 label.sk-toggleable__label {cursor: pointer;display: block;width: 100%;margin-bottom: 0;padding: 0.3em;box-sizing: border-box;text-align: center;}#sk-container-id-1 label.sk-toggleable__label-arrow:before {content: \"▸\";float: left;margin-right: 0.25em;color: #696969;}#sk-container-id-1 label.sk-toggleable__label-arrow:hover:before {color: black;}#sk-container-id-1 div.sk-estimator:hover label.sk-toggleable__label-arrow:before {color: black;}#sk-container-id-1 div.sk-toggleable__content {max-height: 0;max-width: 0;overflow: hidden;text-align: left;background-color: #f0f8ff;}#sk-container-id-1 div.sk-toggleable__content pre {margin: 0.2em;color: black;border-radius: 0.25em;background-color: #f0f8ff;}#sk-container-id-1 input.sk-toggleable__control:checked~div.sk-toggleable__content {max-height: 200px;max-width: 100%;overflow: auto;}#sk-container-id-1 input.sk-toggleable__control:checked~label.sk-toggleable__label-arrow:before {content: \"▾\";}#sk-container-id-1 div.sk-estimator input.sk-toggleable__control:checked~label.sk-toggleable__label {background-color: #d4ebff;}#sk-container-id-1 div.sk-label input.sk-toggleable__control:checked~label.sk-toggleable__label {background-color: #d4ebff;}#sk-container-id-1 input.sk-hidden--visually {border: 0;clip: rect(1px 1px 1px 1px);clip: rect(1px, 1px, 1px, 1px);height: 1px;margin: -1px;overflow: hidden;padding: 0;position: absolute;width: 1px;}#sk-container-id-1 div.sk-estimator {font-family: monospace;background-color: #f0f8ff;border: 1px dotted black;border-radius: 0.25em;box-sizing: border-box;margin-bottom: 0.5em;}#sk-container-id-1 div.sk-estimator:hover {background-color: #d4ebff;}#sk-container-id-1 div.sk-parallel-item::after {content: \"\";width: 100%;border-bottom: 1px solid gray;flex-grow: 1;}#sk-container-id-1 div.sk-label:hover label.sk-toggleable__label {background-color: #d4ebff;}#sk-container-id-1 div.sk-serial::before {content: \"\";position: absolute;border-left: 1px solid gray;box-sizing: border-box;top: 0;bottom: 0;left: 50%;z-index: 0;}#sk-container-id-1 div.sk-serial {display: flex;flex-direction: column;align-items: center;background-color: white;padding-right: 0.2em;padding-left: 0.2em;position: relative;}#sk-container-id-1 div.sk-item {position: relative;z-index: 1;}#sk-container-id-1 div.sk-parallel {display: flex;align-items: stretch;justify-content: center;background-color: white;position: relative;}#sk-container-id-1 div.sk-item::before, #sk-container-id-1 div.sk-parallel-item::before {content: \"\";position: absolute;border-left: 1px solid gray;box-sizing: border-box;top: 0;bottom: 0;left: 50%;z-index: -1;}#sk-container-id-1 div.sk-parallel-item {display: flex;flex-direction: column;z-index: 1;position: relative;background-color: white;}#sk-container-id-1 div.sk-parallel-item:first-child::after {align-self: flex-end;width: 50%;}#sk-container-id-1 div.sk-parallel-item:last-child::after {align-self: flex-start;width: 50%;}#sk-container-id-1 div.sk-parallel-item:only-child::after {width: 0;}#sk-container-id-1 div.sk-dashed-wrapped {border: 1px dashed gray;margin: 0 0.4em 0.5em 0.4em;box-sizing: border-box;padding-bottom: 0.4em;background-color: white;}#sk-container-id-1 div.sk-label label {font-family: monospace;font-weight: bold;display: inline-block;line-height: 1.2em;}#sk-container-id-1 div.sk-label-container {text-align: center;}#sk-container-id-1 div.sk-container {/* jupyter's `normalize.less` sets `[hidden] { display: none; }` but bootstrap.min.css set `[hidden] { display: none !important; }` so we also need the `!important` here to be able to override the default hidden behavior on the sphinx rendered scikit-learn.org. See: https://github.com/scikit-learn/scikit-learn/issues/21755 */display: inline-block !important;position: relative;}#sk-container-id-1 div.sk-text-repr-fallback {display: none;}</style><div id=\"sk-container-id-1\" class=\"sk-top-container\"><div class=\"sk-text-repr-fallback\"><pre>GridSearchCV(cv=5, estimator=Pipeline(steps=[(&#x27;clf&#x27;, Ridge())]), n_jobs=-1,\n",
       "             param_grid=[{&#x27;clf&#x27;: [Ridge()],\n",
       "                          &#x27;clf__alpha&#x27;: array([1.e-05, 1.e-04, 1.e-03, 1.e-02, 1.e-01, 1.e+00, 1.e+01, 1.e+02,\n",
       "       1.e+03, 1.e+04, 1.e+05])},\n",
       "                         {&#x27;clf&#x27;: [SVR(C=100000.0, kernel=&#x27;linear&#x27;)],\n",
       "                          &#x27;clf__C&#x27;: array([1.e-05, 1.e-04, 1.e-03, 1.e-02, 1.e-01, 1.e+00, 1.e+01, 1.e+02,\n",
       "       1.e+03, 1.e+04, 1.e+05]),\n",
       "                          &#x27;clf__kernel&#x27;: [&#x27;linear&#x27;, &#x27;poly&#x27;, &#x27;rbf&#x27;]}],\n",
       "             return_train_score=True, scoring=&#x27;r2&#x27;)</pre><b>In a Jupyter environment, please rerun this cell to show the HTML representation or trust the notebook. <br />On GitHub, the HTML representation is unable to render, please try loading this page with nbviewer.org.</b></div><div class=\"sk-container\" hidden><div class=\"sk-item sk-dashed-wrapped\"><div class=\"sk-label-container\"><div class=\"sk-label sk-toggleable\"><input class=\"sk-toggleable__control sk-hidden--visually\" id=\"sk-estimator-id-1\" type=\"checkbox\" ><label for=\"sk-estimator-id-1\" class=\"sk-toggleable__label sk-toggleable__label-arrow\">GridSearchCV</label><div class=\"sk-toggleable__content\"><pre>GridSearchCV(cv=5, estimator=Pipeline(steps=[(&#x27;clf&#x27;, Ridge())]), n_jobs=-1,\n",
       "             param_grid=[{&#x27;clf&#x27;: [Ridge()],\n",
       "                          &#x27;clf__alpha&#x27;: array([1.e-05, 1.e-04, 1.e-03, 1.e-02, 1.e-01, 1.e+00, 1.e+01, 1.e+02,\n",
       "       1.e+03, 1.e+04, 1.e+05])},\n",
       "                         {&#x27;clf&#x27;: [SVR(C=100000.0, kernel=&#x27;linear&#x27;)],\n",
       "                          &#x27;clf__C&#x27;: array([1.e-05, 1.e-04, 1.e-03, 1.e-02, 1.e-01, 1.e+00, 1.e+01, 1.e+02,\n",
       "       1.e+03, 1.e+04, 1.e+05]),\n",
       "                          &#x27;clf__kernel&#x27;: [&#x27;linear&#x27;, &#x27;poly&#x27;, &#x27;rbf&#x27;]}],\n",
       "             return_train_score=True, scoring=&#x27;r2&#x27;)</pre></div></div></div><div class=\"sk-parallel\"><div class=\"sk-parallel-item\"><div class=\"sk-item\"><div class=\"sk-label-container\"><div class=\"sk-label sk-toggleable\"><input class=\"sk-toggleable__control sk-hidden--visually\" id=\"sk-estimator-id-2\" type=\"checkbox\" ><label for=\"sk-estimator-id-2\" class=\"sk-toggleable__label sk-toggleable__label-arrow\">estimator: Pipeline</label><div class=\"sk-toggleable__content\"><pre>Pipeline(steps=[(&#x27;clf&#x27;, Ridge())])</pre></div></div></div><div class=\"sk-serial\"><div class=\"sk-item\"><div class=\"sk-serial\"><div class=\"sk-item\"><div class=\"sk-estimator sk-toggleable\"><input class=\"sk-toggleable__control sk-hidden--visually\" id=\"sk-estimator-id-3\" type=\"checkbox\" ><label for=\"sk-estimator-id-3\" class=\"sk-toggleable__label sk-toggleable__label-arrow\">Ridge</label><div class=\"sk-toggleable__content\"><pre>Ridge()</pre></div></div></div></div></div></div></div></div></div></div></div></div>"
      ],
      "text/plain": [
       "GridSearchCV(cv=5, estimator=Pipeline(steps=[('clf', Ridge())]), n_jobs=-1,\n",
       "             param_grid=[{'clf': [Ridge()],\n",
       "                          'clf__alpha': array([1.e-05, 1.e-04, 1.e-03, 1.e-02, 1.e-01, 1.e+00, 1.e+01, 1.e+02,\n",
       "       1.e+03, 1.e+04, 1.e+05])},\n",
       "                         {'clf': [SVR(C=100000.0, kernel='linear')],\n",
       "                          'clf__C': array([1.e-05, 1.e-04, 1.e-03, 1.e-02, 1.e-01, 1.e+00, 1.e+01, 1.e+02,\n",
       "       1.e+03, 1.e+04, 1.e+05]),\n",
       "                          'clf__kernel': ['linear', 'poly', 'rbf']}],\n",
       "             return_train_score=True, scoring='r2')"
      ]
     },
     "execution_count": 5,
     "metadata": {},
     "output_type": "execute_result"
    }
   ],
   "source": [
    "from sklearn.model_selection import GridSearchCV\n",
    "\n",
    "grid_search = GridSearchCV(\n",
    "    estimator=pipe,\n",
    "    param_grid=param_grid,\n",
    "    cv=5,\n",
    "    scoring='r2',\n",
    "    n_jobs=-1,\n",
    "    return_train_score=True\n",
    ")\n",
    "grid_search.fit(X_trainval, y_trainval)"
   ]
  },
  {
   "cell_type": "code",
   "execution_count": 6,
   "id": "0d088817",
   "metadata": {
    "ExecuteTime": {
     "end_time": "2023-01-25T16:43:49.472447Z",
     "start_time": "2023-01-25T16:43:49.459145Z"
    }
   },
   "outputs": [
    {
     "data": {
      "text/plain": [
       "dict_keys(['scoring', 'estimator', 'n_jobs', 'refit', 'cv', 'verbose', 'pre_dispatch', 'error_score', 'return_train_score', 'param_grid', 'multimetric_', 'best_index_', 'best_score_', 'best_params_', 'best_estimator_', 'refit_time_', 'scorer_', 'cv_results_', 'n_splits_'])"
      ]
     },
     "execution_count": 6,
     "metadata": {},
     "output_type": "execute_result"
    }
   ],
   "source": [
    "grid_search.__dict__.keys()"
   ]
  },
  {
   "cell_type": "code",
   "execution_count": 8,
   "id": "f04ca5ba",
   "metadata": {
    "ExecuteTime": {
     "end_time": "2023-01-25T16:44:55.754920Z",
     "start_time": "2023-01-25T16:44:55.745752Z"
    }
   },
   "outputs": [
    {
     "data": {
      "text/plain": [
       "0.9910692319583287"
      ]
     },
     "execution_count": 8,
     "metadata": {},
     "output_type": "execute_result"
    }
   ],
   "source": [
    "grid_search.best_score_"
   ]
  },
  {
   "cell_type": "code",
   "execution_count": 10,
   "id": "bfb941ac",
   "metadata": {
    "ExecuteTime": {
     "end_time": "2023-01-25T16:46:01.431834Z",
     "start_time": "2023-01-25T16:46:01.383993Z"
    }
   },
   "outputs": [
    {
     "data": {
      "text/plain": [
       "{'mean_fit_time': array([0.13827457, 0.06885548, 0.13657451, 0.09624963, 0.06808109,\n",
       "        0.0606884 , 0.00127454, 0.00124512, 0.00108094, 0.00108976,\n",
       "        0.00119267, 0.00379982, 0.00161815, 0.00163484, 0.00153246,\n",
       "        0.00165267, 0.00218301, 0.00196452, 0.00184879, 0.00211143,\n",
       "        0.00175848, 0.0019012 , 0.00184193, 0.00179539, 0.00159745,\n",
       "        0.00213504, 0.00198493, 0.0019917 , 0.00187287, 0.00252576,\n",
       "        0.00243425, 0.00214033, 0.00365987, 0.00419955, 0.00365591,\n",
       "        0.01974287, 0.02355385, 0.01051111, 0.10929222, 0.1557672 ,\n",
       "        0.1713768 , 0.94908686, 0.54578094, 0.58951983]),\n",
       " 'std_fit_time': array([1.84899790e-02, 2.80162853e-02, 1.35083463e-02, 1.61457898e-02,\n",
       "        1.95011878e-02, 1.19818208e-02, 1.10495877e-04, 1.77584657e-04,\n",
       "        6.12603815e-05, 3.13479725e-05, 1.22218545e-04, 3.96815572e-03,\n",
       "        2.53635462e-04, 3.71619117e-04, 3.44627755e-04, 2.49268803e-04,\n",
       "        1.80999647e-04, 1.14854463e-04, 1.26918126e-04, 4.61921264e-04,\n",
       "        3.85183543e-04, 1.02058013e-04, 6.38382564e-05, 1.33000013e-04,\n",
       "        1.44019379e-04, 1.38481097e-04, 1.90020511e-04, 2.83101614e-04,\n",
       "        3.91076611e-04, 1.86818166e-04, 2.41171300e-04, 1.48672550e-04,\n",
       "        3.00773466e-04, 3.39608445e-04, 5.30353413e-04, 6.10489190e-03,\n",
       "        1.47826745e-02, 2.28547211e-03, 3.13670469e-02, 5.51815159e-02,\n",
       "        3.73173173e-02, 6.49264660e-01, 1.77572008e-01, 1.73042467e-01]),\n",
       " 'mean_score_time': array([0.00091233, 0.00079808, 0.00104303, 0.00079284, 0.00096679,\n",
       "        0.00110016, 0.00067911, 0.00064664, 0.00060577, 0.00063686,\n",
       "        0.00064163, 0.00103402, 0.00089412, 0.00091453, 0.00087628,\n",
       "        0.00094442, 0.00115957, 0.00103216, 0.00107985, 0.0011528 ,\n",
       "        0.00115867, 0.00106587, 0.00102797, 0.00103383, 0.00094371,\n",
       "        0.00108299, 0.00108886, 0.00100265, 0.0010778 , 0.00098348,\n",
       "        0.0010426 , 0.00099726, 0.00096731, 0.00101008, 0.00445395,\n",
       "        0.00119481, 0.00115752, 0.0010468 , 0.00093474, 0.0025681 ,\n",
       "        0.003438  , 0.00201554, 0.00143995, 0.00270681]),\n",
       " 'std_score_time': array([6.64324354e-05, 1.38860237e-04, 2.25522673e-04, 1.27627815e-04,\n",
       "        7.43141188e-05, 1.18944886e-04, 3.61908409e-05, 3.52693209e-05,\n",
       "        1.31726211e-05, 1.84051731e-05, 4.24661975e-05, 7.44848031e-05,\n",
       "        1.22795743e-04, 1.35334534e-04, 1.54121161e-04, 1.14330835e-04,\n",
       "        1.02856947e-04, 9.97421383e-05, 1.66992866e-04, 2.51695069e-04,\n",
       "        3.85704066e-04, 1.41620684e-04, 4.25152139e-05, 1.05412120e-04,\n",
       "        1.23905051e-04, 6.04821650e-05, 1.80126333e-04, 8.35018792e-05,\n",
       "        2.27342766e-04, 7.50883030e-05, 1.20579569e-04, 4.54159295e-05,\n",
       "        7.16997886e-05, 9.44617419e-05, 6.44179008e-03, 1.43640702e-04,\n",
       "        1.46702809e-04, 2.15844889e-04, 2.93780283e-04, 1.92902963e-03,\n",
       "        2.45776358e-03, 1.52850309e-03, 1.11549632e-03, 1.31974174e-03]),\n",
       " 'param_clf': masked_array(data=[Ridge(), Ridge(), Ridge(), Ridge(), Ridge(), Ridge(),\n",
       "                    Ridge(), Ridge(), Ridge(), Ridge(), Ridge(),\n",
       "                    SVR(C=100000.0, kernel='linear'),\n",
       "                    SVR(C=100000.0, kernel='linear'),\n",
       "                    SVR(C=100000.0, kernel='linear'),\n",
       "                    SVR(C=100000.0, kernel='linear'),\n",
       "                    SVR(C=100000.0, kernel='linear'),\n",
       "                    SVR(C=100000.0, kernel='linear'),\n",
       "                    SVR(C=100000.0, kernel='linear'),\n",
       "                    SVR(C=100000.0, kernel='linear'),\n",
       "                    SVR(C=100000.0, kernel='linear'),\n",
       "                    SVR(C=100000.0, kernel='linear'),\n",
       "                    SVR(C=100000.0, kernel='linear'),\n",
       "                    SVR(C=100000.0, kernel='linear'),\n",
       "                    SVR(C=100000.0, kernel='linear'),\n",
       "                    SVR(C=100000.0, kernel='linear'),\n",
       "                    SVR(C=100000.0, kernel='linear'),\n",
       "                    SVR(C=100000.0, kernel='linear'),\n",
       "                    SVR(C=100000.0, kernel='linear'),\n",
       "                    SVR(C=100000.0, kernel='linear'),\n",
       "                    SVR(C=100000.0, kernel='linear'),\n",
       "                    SVR(C=100000.0, kernel='linear'),\n",
       "                    SVR(C=100000.0, kernel='linear'),\n",
       "                    SVR(C=100000.0, kernel='linear'),\n",
       "                    SVR(C=100000.0, kernel='linear'),\n",
       "                    SVR(C=100000.0, kernel='linear'),\n",
       "                    SVR(C=100000.0, kernel='linear'),\n",
       "                    SVR(C=100000.0, kernel='linear'),\n",
       "                    SVR(C=100000.0, kernel='linear'),\n",
       "                    SVR(C=100000.0, kernel='linear'),\n",
       "                    SVR(C=100000.0, kernel='linear'),\n",
       "                    SVR(C=100000.0, kernel='linear'),\n",
       "                    SVR(C=100000.0, kernel='linear'),\n",
       "                    SVR(C=100000.0, kernel='linear'),\n",
       "                    SVR(C=100000.0, kernel='linear')],\n",
       "              mask=[False, False, False, False, False, False, False, False,\n",
       "                    False, False, False, False, False, False, False, False,\n",
       "                    False, False, False, False, False, False, False, False,\n",
       "                    False, False, False, False, False, False, False, False,\n",
       "                    False, False, False, False, False, False, False, False,\n",
       "                    False, False, False, False],\n",
       "        fill_value='?',\n",
       "             dtype=object),\n",
       " 'param_clf__alpha': masked_array(data=[1e-05, 0.0001, 0.001, 0.01, 0.1, 1.0, 10.0, 100.0,\n",
       "                    1000.0, 10000.0, 100000.0, --, --, --, --, --, --, --,\n",
       "                    --, --, --, --, --, --, --, --, --, --, --, --, --, --,\n",
       "                    --, --, --, --, --, --, --, --, --, --, --, --],\n",
       "              mask=[False, False, False, False, False, False, False, False,\n",
       "                    False, False, False,  True,  True,  True,  True,  True,\n",
       "                     True,  True,  True,  True,  True,  True,  True,  True,\n",
       "                     True,  True,  True,  True,  True,  True,  True,  True,\n",
       "                     True,  True,  True,  True,  True,  True,  True,  True,\n",
       "                     True,  True,  True,  True],\n",
       "        fill_value='?',\n",
       "             dtype=object),\n",
       " 'param_clf__C': masked_array(data=[--, --, --, --, --, --, --, --, --, --, --, 1e-05,\n",
       "                    1e-05, 1e-05, 0.0001, 0.0001, 0.0001, 0.001, 0.001,\n",
       "                    0.001, 0.01, 0.01, 0.01, 0.1, 0.1, 0.1, 1.0, 1.0, 1.0,\n",
       "                    10.0, 10.0, 10.0, 100.0, 100.0, 100.0, 1000.0, 1000.0,\n",
       "                    1000.0, 10000.0, 10000.0, 10000.0, 100000.0, 100000.0,\n",
       "                    100000.0],\n",
       "              mask=[ True,  True,  True,  True,  True,  True,  True,  True,\n",
       "                     True,  True,  True, False, False, False, False, False,\n",
       "                    False, False, False, False, False, False, False, False,\n",
       "                    False, False, False, False, False, False, False, False,\n",
       "                    False, False, False, False, False, False, False, False,\n",
       "                    False, False, False, False],\n",
       "        fill_value='?',\n",
       "             dtype=object),\n",
       " 'param_clf__kernel': masked_array(data=[--, --, --, --, --, --, --, --, --, --, --, 'linear',\n",
       "                    'poly', 'rbf', 'linear', 'poly', 'rbf', 'linear',\n",
       "                    'poly', 'rbf', 'linear', 'poly', 'rbf', 'linear',\n",
       "                    'poly', 'rbf', 'linear', 'poly', 'rbf', 'linear',\n",
       "                    'poly', 'rbf', 'linear', 'poly', 'rbf', 'linear',\n",
       "                    'poly', 'rbf', 'linear', 'poly', 'rbf', 'linear',\n",
       "                    'poly', 'rbf'],\n",
       "              mask=[ True,  True,  True,  True,  True,  True,  True,  True,\n",
       "                     True,  True,  True, False, False, False, False, False,\n",
       "                    False, False, False, False, False, False, False, False,\n",
       "                    False, False, False, False, False, False, False, False,\n",
       "                    False, False, False, False, False, False, False, False,\n",
       "                    False, False, False, False],\n",
       "        fill_value='?',\n",
       "             dtype=object),\n",
       " 'params': [{'clf': Ridge(), 'clf__alpha': 1e-05},\n",
       "  {'clf': Ridge(), 'clf__alpha': 0.0001},\n",
       "  {'clf': Ridge(), 'clf__alpha': 0.001},\n",
       "  {'clf': Ridge(), 'clf__alpha': 0.01},\n",
       "  {'clf': Ridge(), 'clf__alpha': 0.1},\n",
       "  {'clf': Ridge(), 'clf__alpha': 1.0},\n",
       "  {'clf': Ridge(), 'clf__alpha': 10.0},\n",
       "  {'clf': Ridge(), 'clf__alpha': 100.0},\n",
       "  {'clf': Ridge(), 'clf__alpha': 1000.0},\n",
       "  {'clf': Ridge(), 'clf__alpha': 10000.0},\n",
       "  {'clf': Ridge(), 'clf__alpha': 100000.0},\n",
       "  {'clf': SVR(C=100000.0, kernel='linear'),\n",
       "   'clf__C': 1e-05,\n",
       "   'clf__kernel': 'linear'},\n",
       "  {'clf': SVR(C=100000.0, kernel='linear'),\n",
       "   'clf__C': 1e-05,\n",
       "   'clf__kernel': 'poly'},\n",
       "  {'clf': SVR(C=100000.0, kernel='linear'),\n",
       "   'clf__C': 1e-05,\n",
       "   'clf__kernel': 'rbf'},\n",
       "  {'clf': SVR(C=100000.0, kernel='linear'),\n",
       "   'clf__C': 0.0001,\n",
       "   'clf__kernel': 'linear'},\n",
       "  {'clf': SVR(C=100000.0, kernel='linear'),\n",
       "   'clf__C': 0.0001,\n",
       "   'clf__kernel': 'poly'},\n",
       "  {'clf': SVR(C=100000.0, kernel='linear'),\n",
       "   'clf__C': 0.0001,\n",
       "   'clf__kernel': 'rbf'},\n",
       "  {'clf': SVR(C=100000.0, kernel='linear'),\n",
       "   'clf__C': 0.001,\n",
       "   'clf__kernel': 'linear'},\n",
       "  {'clf': SVR(C=100000.0, kernel='linear'),\n",
       "   'clf__C': 0.001,\n",
       "   'clf__kernel': 'poly'},\n",
       "  {'clf': SVR(C=100000.0, kernel='linear'),\n",
       "   'clf__C': 0.001,\n",
       "   'clf__kernel': 'rbf'},\n",
       "  {'clf': SVR(C=100000.0, kernel='linear'),\n",
       "   'clf__C': 0.01,\n",
       "   'clf__kernel': 'linear'},\n",
       "  {'clf': SVR(C=100000.0, kernel='linear'),\n",
       "   'clf__C': 0.01,\n",
       "   'clf__kernel': 'poly'},\n",
       "  {'clf': SVR(C=100000.0, kernel='linear'),\n",
       "   'clf__C': 0.01,\n",
       "   'clf__kernel': 'rbf'},\n",
       "  {'clf': SVR(C=100000.0, kernel='linear'),\n",
       "   'clf__C': 0.1,\n",
       "   'clf__kernel': 'linear'},\n",
       "  {'clf': SVR(C=100000.0, kernel='linear'),\n",
       "   'clf__C': 0.1,\n",
       "   'clf__kernel': 'poly'},\n",
       "  {'clf': SVR(C=100000.0, kernel='linear'),\n",
       "   'clf__C': 0.1,\n",
       "   'clf__kernel': 'rbf'},\n",
       "  {'clf': SVR(C=100000.0, kernel='linear'),\n",
       "   'clf__C': 1.0,\n",
       "   'clf__kernel': 'linear'},\n",
       "  {'clf': SVR(C=100000.0, kernel='linear'),\n",
       "   'clf__C': 1.0,\n",
       "   'clf__kernel': 'poly'},\n",
       "  {'clf': SVR(C=100000.0, kernel='linear'),\n",
       "   'clf__C': 1.0,\n",
       "   'clf__kernel': 'rbf'},\n",
       "  {'clf': SVR(C=100000.0, kernel='linear'),\n",
       "   'clf__C': 10.0,\n",
       "   'clf__kernel': 'linear'},\n",
       "  {'clf': SVR(C=100000.0, kernel='linear'),\n",
       "   'clf__C': 10.0,\n",
       "   'clf__kernel': 'poly'},\n",
       "  {'clf': SVR(C=100000.0, kernel='linear'),\n",
       "   'clf__C': 10.0,\n",
       "   'clf__kernel': 'rbf'},\n",
       "  {'clf': SVR(C=100000.0, kernel='linear'),\n",
       "   'clf__C': 100.0,\n",
       "   'clf__kernel': 'linear'},\n",
       "  {'clf': SVR(C=100000.0, kernel='linear'),\n",
       "   'clf__C': 100.0,\n",
       "   'clf__kernel': 'poly'},\n",
       "  {'clf': SVR(C=100000.0, kernel='linear'),\n",
       "   'clf__C': 100.0,\n",
       "   'clf__kernel': 'rbf'},\n",
       "  {'clf': SVR(C=100000.0, kernel='linear'),\n",
       "   'clf__C': 1000.0,\n",
       "   'clf__kernel': 'linear'},\n",
       "  {'clf': SVR(C=100000.0, kernel='linear'),\n",
       "   'clf__C': 1000.0,\n",
       "   'clf__kernel': 'poly'},\n",
       "  {'clf': SVR(C=100000.0, kernel='linear'),\n",
       "   'clf__C': 1000.0,\n",
       "   'clf__kernel': 'rbf'},\n",
       "  {'clf': SVR(C=100000.0, kernel='linear'),\n",
       "   'clf__C': 10000.0,\n",
       "   'clf__kernel': 'linear'},\n",
       "  {'clf': SVR(C=100000.0, kernel='linear'),\n",
       "   'clf__C': 10000.0,\n",
       "   'clf__kernel': 'poly'},\n",
       "  {'clf': SVR(C=100000.0, kernel='linear'),\n",
       "   'clf__C': 10000.0,\n",
       "   'clf__kernel': 'rbf'},\n",
       "  {'clf': SVR(C=100000.0, kernel='linear'),\n",
       "   'clf__C': 100000.0,\n",
       "   'clf__kernel': 'linear'},\n",
       "  {'clf': SVR(C=100000.0, kernel='linear'),\n",
       "   'clf__C': 100000.0,\n",
       "   'clf__kernel': 'poly'},\n",
       "  {'clf': SVR(C=100000.0, kernel='linear'),\n",
       "   'clf__C': 100000.0,\n",
       "   'clf__kernel': 'rbf'}],\n",
       " 'split0_test_score': array([ 0.99424503,  0.99424499,  0.99424462,  0.99424086,  0.994198  ,\n",
       "         0.99327207,  0.9524635 ,  0.48377625,  0.06026571, -0.01011282,\n",
       "        -0.01759736, -0.03675905, -0.03675343, -0.0367694 , -0.0366511 ,\n",
       "        -0.03659493, -0.03675456, -0.03557188, -0.03501075, -0.0366062 ,\n",
       "        -0.02481095, -0.01925671, -0.03512355,  0.0796699 ,  0.12950632,\n",
       "        -0.02039319,  0.81036693,  0.74488581,  0.11730172,  0.99317829,\n",
       "         0.83761722,  0.56426846,  0.99422356,  0.79339019,  0.66294993,\n",
       "         0.99424499,  0.77285372,  0.82037548,  0.99424695,  0.77286392,\n",
       "         0.89399883,  0.99426797,  0.77297542,  0.87494015]),\n",
       " 'split1_test_score': array([ 0.98559163,  0.98559151,  0.98559033,  0.98557848,  0.98545618,\n",
       "         0.98386509,  0.94277961,  0.4219637 , -0.16155575, -0.2684775 ,\n",
       "        -0.28001436, -0.48901117, -0.48901433, -0.48902435, -0.48885897,\n",
       "        -0.48889063, -0.48899081, -0.48733745, -0.48765392, -0.48865538,\n",
       "        -0.47216654, -0.47532358, -0.48530351, -0.32488438, -0.35569088,\n",
       "        -0.45201833,  0.7315712 ,  0.30937902, -0.14252873,  0.98385436,\n",
       "         0.88511716,  0.85842601,  0.98520093,  0.88680872,  0.98480203,\n",
       "         0.98546386,  0.87659233,  0.98746503,  0.9854647 ,  0.87658829,\n",
       "         0.9829015 ,  0.98547584,  0.87651003,  0.98800535]),\n",
       " 'split2_test_score': array([ 0.99355143,  0.99355137,  0.99355081,  0.99354516,  0.99348561,\n",
       "         0.9925936 ,  0.96288715,  0.54005964,  0.04918064, -0.04120223,\n",
       "        -0.05095571, -0.09168954, -0.09168918, -0.09170088, -0.09156392,\n",
       "        -0.09156034, -0.09167737, -0.09030817, -0.09027243, -0.09144227,\n",
       "        -0.0777907 , -0.07744246, -0.08909312,  0.04338177,  0.04594473,\n",
       "        -0.065788  ,  0.84751053,  0.50875545,  0.14862551,  0.99243604,\n",
       "         0.71878686,  0.80353444,  0.99372176,  0.75183086,  0.97861522,\n",
       "         0.99374935,  0.72540805,  0.99282613,  0.99374957,  0.72543633,\n",
       "         0.99302729,  0.99375152,  0.72571645,  0.97014215]),\n",
       " 'split3_test_score': array([ 9.87625639e-01,  9.87625732e-01,  9.87626663e-01,  9.87635939e-01,\n",
       "         9.87725288e-01,  9.88289504e-01,  9.70155046e-01,  5.59235916e-01,\n",
       "         3.24959602e-02, -6.75127784e-02, -7.83524110e-02, -2.53099328e-03,\n",
       "        -2.53049110e-03, -2.54046935e-03, -2.42185842e-03, -2.41683882e-03,\n",
       "        -2.51661594e-03, -1.33085131e-03, -1.28087556e-03, -2.27810381e-03,\n",
       "         9.54507375e-03,  1.00228012e-02,  1.04820103e-04,  1.14889722e-01,\n",
       "         1.17463993e-01,  2.37143192e-02,  8.61504947e-01,  6.12288465e-01,\n",
       "         2.47186465e-01,  9.88436275e-01,  4.68885003e-01,  9.26942252e-01,\n",
       "         9.88199808e-01,  3.94549001e-01,  9.90119075e-01,  9.88138838e-01,\n",
       "         3.95930127e-01,  9.91226362e-01,  9.88138617e-01,  3.95901944e-01,\n",
       "         9.84780479e-01,  9.88134237e-01,  3.95624757e-01,  9.79086044e-01]),\n",
       " 'split4_test_score': array([ 0.99383243,  0.99383254,  0.99383372,  0.99384542,  0.99395756,\n",
       "         0.99461232,  0.96974327,  0.53151403,  0.07189558, -0.00847624,\n",
       "        -0.01708417, -0.05875827, -0.05875464, -0.05876879, -0.05864544,\n",
       "        -0.05860919, -0.0587506 , -0.0575175 , -0.05715532, -0.0585687 ,\n",
       "        -0.0462715 , -0.04268787, -0.05675095,  0.06284823,  0.0948609 ,\n",
       "        -0.0386974 ,  0.82387828,  0.68299806,  0.1398808 ,  0.9949099 ,\n",
       "         0.81291316,  0.68887636,  0.99372724,  0.83009938,  0.89680056,\n",
       "         0.99372654,  0.8292383 ,  0.97354255,  0.99372552,  0.82923974,\n",
       "         0.94773757,  0.99371661,  0.82932625,  0.72145071]),\n",
       " 'mean_test_score': array([ 0.99096923,  0.99096923,  0.99096923,  0.99096917,  0.99096453,\n",
       "         0.99052652,  0.95960571,  0.50730991,  0.01045643, -0.07915631,\n",
       "        -0.0888008 , -0.1357498 , -0.13574842, -0.13576078, -0.13562826,\n",
       "        -0.13561438, -0.13573799, -0.13441317, -0.13427466, -0.13551013,\n",
       "        -0.12229892, -0.12093756, -0.13323326, -0.00481895,  0.00641701,\n",
       "        -0.11063652,  0.81496638,  0.57166136,  0.10209315,  0.99056297,\n",
       "         0.74466388,  0.76840951,  0.99101466,  0.73133563,  0.90265736,\n",
       "         0.99106471,  0.72000451,  0.95308711,  0.99106507,  0.72000604,\n",
       "         0.96048914,  0.99106923,  0.72003058,  0.90672488]),\n",
       " 'std_test_score': array([0.00362477, 0.00362479, 0.00362501, 0.00362719, 0.00364977,\n",
       "        0.00394673, 0.01057313, 0.04938118, 0.08698187, 0.09714039,\n",
       "        0.09830285, 0.17900224, 0.17900452, 0.17900343, 0.17898624,\n",
       "        0.17900899, 0.1789981 , 0.17882631, 0.17905371, 0.17894485,\n",
       "        0.17723163, 0.1794959 , 0.17841295, 0.1617483 , 0.18329719,\n",
       "        0.17316014, 0.04534378, 0.1528413 , 0.13016636, 0.00396919,\n",
       "        0.14815466, 0.12842776, 0.00365257, 0.17413915, 0.12462813,\n",
       "        0.00358712, 0.16988126, 0.06670298, 0.00358712, 0.16989227,\n",
       "        0.03670062, 0.00358707, 0.17000352, 0.10119406]),\n",
       " 'rank_test_score': array([ 5,  6,  7,  8,  9, 11, 13, 25, 27, 30, 31, 43, 42, 44, 40, 39, 41,\n",
       "        37, 36, 38, 34, 33, 35, 29, 28, 32, 17, 24, 26, 10, 19, 18,  4, 20,\n",
       "        16,  3, 23, 14,  2, 22, 12,  1, 21, 15], dtype=int32),\n",
       " 'split0_train_score': array([ 9.92093142e-01,  9.92093142e-01,  9.92093141e-01,  9.92093086e-01,\n",
       "         9.92087553e-01,  9.91558005e-01,  9.55799807e-01,  5.07972379e-01,\n",
       "         8.13805158e-02,  8.63666906e-03,  8.68964925e-04, -5.99637466e-03,\n",
       "        -5.99316802e-03, -6.00593029e-03, -5.88729281e-03, -5.85523026e-03,\n",
       "        -5.98284593e-03, -4.79680905e-03, -4.47656793e-03, -5.75202116e-03,\n",
       "         6.07455102e-03,  9.23852197e-03, -3.44565693e-03,  1.11440399e-01,\n",
       "         1.39236085e-01,  1.94296333e-02,  8.28542012e-01,  7.24150859e-01,\n",
       "         2.29347338e-01,  9.91358916e-01,  8.11881324e-01,  8.15250159e-01,\n",
       "         9.92070184e-01,  7.92799169e-01,  9.93197462e-01,  9.92067505e-01,\n",
       "         7.85731046e-01,  9.97989673e-01,  9.92067459e-01,  7.85743591e-01,\n",
       "         9.98224760e-01,  9.92066588e-01,  7.85875508e-01,  9.97954432e-01]),\n",
       " 'split1_train_score': array([ 0.99367046,  0.99367046,  0.99367046,  0.99367042,  0.99366689,\n",
       "         0.99332578,  0.96851877,  0.57151584,  0.0987924 ,  0.01060705,\n",
       "         0.00106852, -0.01820092, -0.0181966 , -0.01821158, -0.01808688,\n",
       "        -0.01804374, -0.01819351, -0.01694682, -0.01651603, -0.01801281,\n",
       "        -0.00558234, -0.00133095, -0.01620697,  0.10445432,  0.14131493,\n",
       "         0.00173064,  0.84092821,  0.63535098,  0.16903024,  0.99349698,\n",
       "         0.79343373,  0.7537124 ,  0.99364145,  0.78392227,  0.97737257,\n",
       "         0.99361601,  0.78486244,  0.9981843 ,  0.99361603,  0.78485848,\n",
       "         0.99891994,  0.99361625,  0.78481693,  0.99902632]),\n",
       " 'split2_train_score': array([ 0.99266475,  0.99266475,  0.99266475,  0.99266471,  0.99266123,\n",
       "         0.99232459,  0.96767104,  0.56873175,  0.09744879,  0.01044346,\n",
       "         0.00105182, -0.0040786 , -0.00407471, -0.00408927, -0.00396205,\n",
       "        -0.00392316, -0.00406875, -0.00279696, -0.00240857, -0.00386357,\n",
       "         0.00881641,  0.01264968, -0.00181338,  0.12119836,  0.15446265,\n",
       "         0.01853031,  0.85617697,  0.68722026,  0.20614363,  0.99204983,\n",
       "         0.83726454,  0.76579347,  0.99262287,  0.82539627,  0.97724034,\n",
       "         0.99259494,  0.82040156,  0.9980979 ,  0.99259492,  0.82040298,\n",
       "         0.99852784,  0.99259438,  0.8204165 ,  0.9988407 ]),\n",
       " 'split3_train_score': array([ 0.99340811,  0.99340811,  0.99340811,  0.99340808,  0.99340488,\n",
       "         0.99309471,  0.97011132,  0.58152096,  0.10138831,  0.01089695,\n",
       "         0.00109783, -0.02636369, -0.02636038, -0.02637461, -0.02624501,\n",
       "        -0.02621195, -0.0263542 , -0.02505859, -0.02472851, -0.0261501 ,\n",
       "        -0.01323308, -0.00997966, -0.02411082,  0.10115637,  0.12895465,\n",
       "        -0.00388712,  0.86542287,  0.68545017,  0.18718308,  0.99272462,\n",
       "         0.84869792,  0.76507854,  0.9933455 ,  0.85144422,  0.97829283,\n",
       "         0.99334211,  0.85171826,  0.99827603,  0.99334222,  0.85171702,\n",
       "         0.99891286,  0.99334354,  0.85170379,  0.99912861]),\n",
       " 'split4_train_score': array([ 9.92372233e-01,  9.92372233e-01,  9.92372232e-01,  9.92372187e-01,\n",
       "         9.92367657e-01,  9.91932195e-01,  9.61461209e-01,  5.35049864e-01,\n",
       "         8.83490703e-02,  9.41772485e-03,  9.47986685e-04, -1.48251016e-02,\n",
       "        -1.48218658e-02, -1.48348186e-02, -1.47180663e-02, -1.46857129e-02,\n",
       "        -1.48152331e-02, -1.36480298e-02, -1.33249411e-02, -1.46193915e-02,\n",
       "        -2.97931445e-03,  2.07096691e-04, -1.26623331e-02,  1.00542868e-01,\n",
       "         1.27959381e-01,  6.77249817e-03,  8.21656565e-01,  6.48227181e-01,\n",
       "         1.92867788e-01,  9.91307897e-01,  7.83115841e-01,  7.72378341e-01,\n",
       "         9.92366955e-01,  7.86738851e-01,  9.79414218e-01,  9.92366953e-01,\n",
       "         7.86155694e-01,  9.98077619e-01,  9.92367053e-01,  7.86162579e-01,\n",
       "         9.98464103e-01,  9.92367939e-01,  7.86234135e-01,  9.98691850e-01]),\n",
       " 'mean_train_score': array([ 0.99284174,  0.99284174,  0.99284174,  0.9928417 ,  0.99283764,\n",
       "         0.99244706,  0.96471243,  0.55295816,  0.09347182,  0.01000037,\n",
       "         0.00100702, -0.01389294, -0.01388935, -0.01390324, -0.01377986,\n",
       "        -0.01374396, -0.01388291, -0.01264944, -0.01229092, -0.01367958,\n",
       "        -0.00138076,  0.00215694, -0.01164783,  0.10775847,  0.13838554,\n",
       "         0.00851519,  0.84254532,  0.67607989,  0.19691442,  0.99218765,\n",
       "         0.81487867,  0.77444258,  0.99280939,  0.80806016,  0.98110348,\n",
       "         0.9927975 ,  0.8057738 ,  0.99812511,  0.99279754,  0.80577693,\n",
       "         0.9986099 ,  0.99279774,  0.80580937,  0.99872838]),\n",
       " 'std_train_score': array([6.03277458e-04, 6.03277459e-04, 6.03277531e-04, 6.03284679e-04,\n",
       "        6.03995465e-04, 6.72621960e-04, 5.33656940e-03, 2.73987392e-02,\n",
       "        7.47312389e-03, 8.44677971e-04, 8.55335747e-05, 8.16852830e-03,\n",
       "        8.16854459e-03, 8.16879742e-03, 8.16691583e-03, 8.16708093e-03,\n",
       "        8.16960594e-03, 8.15091258e-03, 8.15278482e-03, 8.17770394e-03,\n",
       "        8.00312682e-03, 8.04376356e-03, 8.25994188e-03, 7.75573701e-03,\n",
       "        9.64805355e-03, 9.19034410e-03, 1.63966566e-02, 3.14876032e-02,\n",
       "        2.01279602e-02, 8.34558814e-04, 2.49904603e-02, 2.12685331e-02,\n",
       "        5.92739219e-04, 2.62787029e-02, 6.09690597e-03, 5.87511155e-04,\n",
       "        2.66410655e-02, 9.75917018e-05, 5.87534191e-04, 2.66385149e-02,\n",
       "        2.69899134e-04, 5.87965129e-04, 2.66116407e-02, 4.15187011e-04])}"
      ]
     },
     "execution_count": 10,
     "metadata": {},
     "output_type": "execute_result"
    }
   ],
   "source": [
    "grid_search.cv_results_"
   ]
  },
  {
   "cell_type": "code",
   "execution_count": 7,
   "id": "449d0354",
   "metadata": {
    "ExecuteTime": {
     "end_time": "2023-01-25T16:43:57.863227Z",
     "start_time": "2023-01-25T16:43:57.849724Z"
    }
   },
   "outputs": [
    {
     "data": {
      "text/html": [
       "<style>#sk-container-id-2 {color: black;background-color: white;}#sk-container-id-2 pre{padding: 0;}#sk-container-id-2 div.sk-toggleable {background-color: white;}#sk-container-id-2 label.sk-toggleable__label {cursor: pointer;display: block;width: 100%;margin-bottom: 0;padding: 0.3em;box-sizing: border-box;text-align: center;}#sk-container-id-2 label.sk-toggleable__label-arrow:before {content: \"▸\";float: left;margin-right: 0.25em;color: #696969;}#sk-container-id-2 label.sk-toggleable__label-arrow:hover:before {color: black;}#sk-container-id-2 div.sk-estimator:hover label.sk-toggleable__label-arrow:before {color: black;}#sk-container-id-2 div.sk-toggleable__content {max-height: 0;max-width: 0;overflow: hidden;text-align: left;background-color: #f0f8ff;}#sk-container-id-2 div.sk-toggleable__content pre {margin: 0.2em;color: black;border-radius: 0.25em;background-color: #f0f8ff;}#sk-container-id-2 input.sk-toggleable__control:checked~div.sk-toggleable__content {max-height: 200px;max-width: 100%;overflow: auto;}#sk-container-id-2 input.sk-toggleable__control:checked~label.sk-toggleable__label-arrow:before {content: \"▾\";}#sk-container-id-2 div.sk-estimator input.sk-toggleable__control:checked~label.sk-toggleable__label {background-color: #d4ebff;}#sk-container-id-2 div.sk-label input.sk-toggleable__control:checked~label.sk-toggleable__label {background-color: #d4ebff;}#sk-container-id-2 input.sk-hidden--visually {border: 0;clip: rect(1px 1px 1px 1px);clip: rect(1px, 1px, 1px, 1px);height: 1px;margin: -1px;overflow: hidden;padding: 0;position: absolute;width: 1px;}#sk-container-id-2 div.sk-estimator {font-family: monospace;background-color: #f0f8ff;border: 1px dotted black;border-radius: 0.25em;box-sizing: border-box;margin-bottom: 0.5em;}#sk-container-id-2 div.sk-estimator:hover {background-color: #d4ebff;}#sk-container-id-2 div.sk-parallel-item::after {content: \"\";width: 100%;border-bottom: 1px solid gray;flex-grow: 1;}#sk-container-id-2 div.sk-label:hover label.sk-toggleable__label {background-color: #d4ebff;}#sk-container-id-2 div.sk-serial::before {content: \"\";position: absolute;border-left: 1px solid gray;box-sizing: border-box;top: 0;bottom: 0;left: 50%;z-index: 0;}#sk-container-id-2 div.sk-serial {display: flex;flex-direction: column;align-items: center;background-color: white;padding-right: 0.2em;padding-left: 0.2em;position: relative;}#sk-container-id-2 div.sk-item {position: relative;z-index: 1;}#sk-container-id-2 div.sk-parallel {display: flex;align-items: stretch;justify-content: center;background-color: white;position: relative;}#sk-container-id-2 div.sk-item::before, #sk-container-id-2 div.sk-parallel-item::before {content: \"\";position: absolute;border-left: 1px solid gray;box-sizing: border-box;top: 0;bottom: 0;left: 50%;z-index: -1;}#sk-container-id-2 div.sk-parallel-item {display: flex;flex-direction: column;z-index: 1;position: relative;background-color: white;}#sk-container-id-2 div.sk-parallel-item:first-child::after {align-self: flex-end;width: 50%;}#sk-container-id-2 div.sk-parallel-item:last-child::after {align-self: flex-start;width: 50%;}#sk-container-id-2 div.sk-parallel-item:only-child::after {width: 0;}#sk-container-id-2 div.sk-dashed-wrapped {border: 1px dashed gray;margin: 0 0.4em 0.5em 0.4em;box-sizing: border-box;padding-bottom: 0.4em;background-color: white;}#sk-container-id-2 div.sk-label label {font-family: monospace;font-weight: bold;display: inline-block;line-height: 1.2em;}#sk-container-id-2 div.sk-label-container {text-align: center;}#sk-container-id-2 div.sk-container {/* jupyter's `normalize.less` sets `[hidden] { display: none; }` but bootstrap.min.css set `[hidden] { display: none !important; }` so we also need the `!important` here to be able to override the default hidden behavior on the sphinx rendered scikit-learn.org. See: https://github.com/scikit-learn/scikit-learn/issues/21755 */display: inline-block !important;position: relative;}#sk-container-id-2 div.sk-text-repr-fallback {display: none;}</style><div id=\"sk-container-id-2\" class=\"sk-top-container\"><div class=\"sk-text-repr-fallback\"><pre>Pipeline(steps=[(&#x27;clf&#x27;, SVR(C=100000.0, kernel=&#x27;linear&#x27;))])</pre><b>In a Jupyter environment, please rerun this cell to show the HTML representation or trust the notebook. <br />On GitHub, the HTML representation is unable to render, please try loading this page with nbviewer.org.</b></div><div class=\"sk-container\" hidden><div class=\"sk-item sk-dashed-wrapped\"><div class=\"sk-label-container\"><div class=\"sk-label sk-toggleable\"><input class=\"sk-toggleable__control sk-hidden--visually\" id=\"sk-estimator-id-4\" type=\"checkbox\" ><label for=\"sk-estimator-id-4\" class=\"sk-toggleable__label sk-toggleable__label-arrow\">Pipeline</label><div class=\"sk-toggleable__content\"><pre>Pipeline(steps=[(&#x27;clf&#x27;, SVR(C=100000.0, kernel=&#x27;linear&#x27;))])</pre></div></div></div><div class=\"sk-serial\"><div class=\"sk-item\"><div class=\"sk-estimator sk-toggleable\"><input class=\"sk-toggleable__control sk-hidden--visually\" id=\"sk-estimator-id-5\" type=\"checkbox\" ><label for=\"sk-estimator-id-5\" class=\"sk-toggleable__label sk-toggleable__label-arrow\">SVR</label><div class=\"sk-toggleable__content\"><pre>SVR(C=100000.0, kernel=&#x27;linear&#x27;)</pre></div></div></div></div></div></div></div>"
      ],
      "text/plain": [
       "Pipeline(steps=[('clf', SVR(C=100000.0, kernel='linear'))])"
      ]
     },
     "execution_count": 7,
     "metadata": {},
     "output_type": "execute_result"
    }
   ],
   "source": [
    "grid_search.best_estimator_"
   ]
  },
  {
   "cell_type": "code",
   "execution_count": 11,
   "id": "a024174d",
   "metadata": {
    "ExecuteTime": {
     "end_time": "2023-01-25T16:46:42.723491Z",
     "start_time": "2023-01-25T16:46:42.713611Z"
    }
   },
   "outputs": [
    {
     "data": {
      "text/plain": [
       "{'clf': SVR(C=100000.0, kernel='linear'),\n",
       " 'clf__C': 100000.0,\n",
       " 'clf__kernel': 'linear'}"
      ]
     },
     "execution_count": 11,
     "metadata": {},
     "output_type": "execute_result"
    }
   ],
   "source": [
    "grid_search.best_params_"
   ]
  },
  {
   "cell_type": "code",
   "execution_count": null,
   "id": "d963fd5e",
   "metadata": {
    "ExecuteTime": {
     "end_time": "2023-01-25T16:42:57.879588Z",
     "start_time": "2023-01-25T16:42:57.879556Z"
    }
   },
   "outputs": [],
   "source": [
    "lr = LinearRegression()\n",
    "lr.fit(X_processed, y)"
   ]
  },
  {
   "cell_type": "code",
   "execution_count": null,
   "id": "12a91323",
   "metadata": {
    "ExecuteTime": {
     "end_time": "2023-01-25T16:42:57.882650Z",
     "start_time": "2023-01-25T16:42:57.882617Z"
    }
   },
   "outputs": [],
   "source": [
    "lr.coef_"
   ]
  },
  {
   "cell_type": "code",
   "execution_count": null,
   "id": "8dfbe097",
   "metadata": {
    "ExecuteTime": {
     "end_time": "2023-01-25T16:42:57.884996Z",
     "start_time": "2023-01-25T16:42:57.884971Z"
    }
   },
   "outputs": [],
   "source": [
    "coef"
   ]
  },
  {
   "cell_type": "code",
   "execution_count": null,
   "id": "746c33bd",
   "metadata": {
    "ExecuteTime": {
     "end_time": "2023-01-25T16:42:57.887058Z",
     "start_time": "2023-01-25T16:42:57.887033Z"
    }
   },
   "outputs": [],
   "source": [
    "lr.intercept_"
   ]
  },
  {
   "cell_type": "code",
   "execution_count": null,
   "id": "fb8abf4b",
   "metadata": {
    "ExecuteTime": {
     "end_time": "2023-01-25T16:11:23.667100Z",
     "start_time": "2023-01-25T16:11:23.659732Z"
    }
   },
   "outputs": [],
   "source": []
  },
  {
   "cell_type": "code",
   "execution_count": null,
   "id": "c0e04ef7",
   "metadata": {
    "ExecuteTime": {
     "end_time": "2023-01-25T16:42:57.888799Z",
     "start_time": "2023-01-25T16:42:57.888773Z"
    }
   },
   "outputs": [],
   "source": [
    "lr = LinearRegression()\n",
    "lr.fit(X, y)"
   ]
  },
  {
   "cell_type": "code",
   "execution_count": null,
   "id": "b574869e",
   "metadata": {
    "ExecuteTime": {
     "end_time": "2023-01-25T16:42:57.890717Z",
     "start_time": "2023-01-25T16:42:57.890692Z"
    }
   },
   "outputs": [],
   "source": [
    "print(lr.coef_)\n",
    "print(coef)"
   ]
  },
  {
   "cell_type": "code",
   "execution_count": null,
   "id": "056cc110",
   "metadata": {
    "ExecuteTime": {
     "end_time": "2023-01-25T16:42:57.892483Z",
     "start_time": "2023-01-25T16:42:57.892457Z"
    }
   },
   "outputs": [],
   "source": [
    "lr.intercept_"
   ]
  },
  {
   "cell_type": "code",
   "execution_count": null,
   "id": "e1b3ed30",
   "metadata": {
    "ExecuteTime": {
     "end_time": "2023-01-25T16:42:57.894118Z",
     "start_time": "2023-01-25T16:42:57.894100Z"
    }
   },
   "outputs": [],
   "source": [
    "plt.scatter(X_processed[:, 0], X_processed[:, 1], c=y)"
   ]
  },
  {
   "cell_type": "code",
   "execution_count": null,
   "id": "9fd1f42a",
   "metadata": {
    "ExecuteTime": {
     "end_time": "2023-01-25T16:42:57.895346Z",
     "start_time": "2023-01-25T16:42:57.895327Z"
    }
   },
   "outputs": [],
   "source": [
    "plt.scatter(X[:, 0], X[:, 1], c=y);"
   ]
  },
  {
   "cell_type": "code",
   "execution_count": null,
   "id": "fba8d6f2",
   "metadata": {
    "ExecuteTime": {
     "end_time": "2023-01-25T16:42:57.896727Z",
     "start_time": "2023-01-25T16:42:57.896709Z"
    }
   },
   "outputs": [],
   "source": [
    "import numpy as np"
   ]
  },
  {
   "cell_type": "code",
   "execution_count": null,
   "id": "a2b4add4",
   "metadata": {
    "ExecuteTime": {
     "end_time": "2023-01-25T16:42:57.898102Z",
     "start_time": "2023-01-25T16:42:57.898083Z"
    }
   },
   "outputs": [],
   "source": [
    "plt.plot(X_processed[0], np.cbrt(X_processed[1]))"
   ]
  },
  {
   "cell_type": "code",
   "execution_count": null,
   "id": "d2d15c20",
   "metadata": {
    "ExecuteTime": {
     "end_time": "2023-01-25T16:42:57.899396Z",
     "start_time": "2023-01-25T16:42:57.899377Z"
    }
   },
   "outputs": [],
   "source": [
    "coef"
   ]
  },
  {
   "cell_type": "markdown",
   "id": "37cedaa1",
   "metadata": {},
   "source": [
    "###"
   ]
  },
  {
   "cell_type": "markdown",
   "id": "590767ed",
   "metadata": {},
   "source": [
    "More often than not, when we focus on predictive accuracy, we sacrifice theoretical accuracy for improved empirical precision. Indeed, when it comes to choosing the model with the highest predictive accuracy, the optimal model are the least interpretable. (see Figure <a href='#fig:accuracy-interpretability'>2</a>) [[1]](#ref:interpret-ml).\n",
    "\n",
    "<a name='fig:accuracy-interpretability'></a>\n",
    "<div>\n",
    "<img src=\"images/accuracy-interpretability-trade-off.PNG\" align=\"left\" width=\"450\"/>\n",
    "</div>\n",
    "\n",
    "<br style=\"clear:both\" />\n",
    "\n",
    "<div>\n",
    "    <p style=\"font-size:12px;font-style:default;\">\n",
    "        <b>Figure 2. Machine learning model accuracy and interpretability tradeoff.</b><br>\n",
    "           Models that are highly accurate are the least interpretable, while models that are highly interpretable have a sub-par accuracy [<a href='#ref:interpret-ml'>1</a>].\n",
    "    </p>\n",
    "</div>\n"
   ]
  },
  {
   "cell_type": "markdown",
   "id": "6088ddb7",
   "metadata": {},
   "source": [
    "## References"
   ]
  },
  {
   "cell_type": "markdown",
   "id": "8ccff2fa",
   "metadata": {},
   "source": [
    "<a name='ref:interpret-ml'></a> [1] Guo, Mengzhuo, et al. \"An interpretable machine learning framework for modelling human decision behavior.\" *arXiv preprint arXiv:1906.01233* (2019).\n",
    "\n",
    "<a name='ref:molnar'></a> [2] Molnar, Christoph. “Interpretable machine learning. A Guide for Making Black Box Models Explainable”, 2019. https://christophm.github.io/interpretable-ml-book/.\n",
    "\n",
    "<a name='ref:miller'></a> [3] Miller, Tim. “Explanation in artificial intelligence: Insights from the social sciences.” *arXiv Preprint arXiv:1706.07269.* (2017)\n",
    "\n",
    "<a name='ref:kim'></a> [4] Kim, Been, Rajiv Khanna, and Oluwasanmi O. Koyejo. “Examples are not enough, learn to criticize! Criticism for interpretability.” *Advances in Neural Information Processing Systems* (2016).\n",
    "\n",
    "<a name='ref:crisp-dm'></a> [5] Kelleher, John D., Brian Mac Namee, and Aoife D’Arcy. \"Machine Learning for Predictive Analytics: The Predictive Data Analytics Project Lifecycle: CRISP-DM.\" *Fundamentals of machine learning for predictive analytics*, The MIT Press, 2020, pp. 15-17.\n",
    "\n",
    "<a name='ref:great-ai-debate'></a> [6] NeurIPS 2017. “The Great AI Debate - NIPS2017 - Yann LeCun.” *YouTube*, uploaded by The Artificial Intelligence Channel, 1 February 2018, https://youtu.be/93Xv8vJ2acI.\n",
    "\n",
    "<a name='ref:bbox-peek'></a> [7] Adadi, Amina, and Mohammed Berrada. \"Peeking inside the black-box: a survey on explainable artificial intelligence (XAI).\" *IEEE access 6* (2018): 52138-52160.\n",
    "\n",
    "<a name='ref:rulefit'></a> [8] Friedman, Jerome H., and Bogdan E. Popescu. \"Predictive learning via rule ensembles.\" The Annals of Applied Statistics 2.3 (2008): 916-954.\n",
    "\n",
    "<a name='ref:med-image'></a> [9] Singh, Amitojdeep, Sourya Sengupta, and Vasudevan Lakshminarayanan. \"Explainable deep learning models in medical image analysis.\" *Journal of Imaging 6.6* (2020): 52.\n",
    "\n",
    "<a name='ref:shap-how'></a> [10] Mazzanti, Samuele. \"SHAP Values Explained Exactly How You Wished Someone Explained to You.\" *Towards Data Science*, 04 Apr. 2020, https://towardsdatascience.com/shap-explained-the-way-i-wish-someone-explained-it-to-me-ab81cc69ef30\n",
    "\n",
    "<a name='ref:shapley-handbook'></a> [11] Algaba, Encarnación, Vito Fragnelli, and Joaquín Sánchez-Soriano, eds. *Handbook of the Shapley value*. CRC Press, 2019.\n",
    "\n",
    "<a name='ref:predict-explain'></a> [12] Shmueli G. *To explain or to predict?*. Statistical science. 2010 Aug;25(3):289-310.\n",
    "\n"
   ]
  }
 ],
 "metadata": {
  "kernelspec": {
   "display_name": "Python 3 (ipykernel)",
   "language": "python",
   "name": "python3"
  },
  "language_info": {
   "codemirror_mode": {
    "name": "ipython",
    "version": 3
   },
   "file_extension": ".py",
   "mimetype": "text/x-python",
   "name": "python",
   "nbconvert_exporter": "python",
   "pygments_lexer": "ipython3",
   "version": "3.9.13"
  }
 },
 "nbformat": 4,
 "nbformat_minor": 5
}
